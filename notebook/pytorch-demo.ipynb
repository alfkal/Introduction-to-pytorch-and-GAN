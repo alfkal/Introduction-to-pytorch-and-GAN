{
 "cells": [
  {
   "cell_type": "code",
   "execution_count": 1,
   "metadata": {},
   "outputs": [],
   "source": [
    "from sklearn.datasets import make_circles\n",
    "from sklearn.model_selection import train_test_split\n",
    "\n",
    "from torch.autograd import Variable\n",
    "import torch\n",
    "import torch.nn as nn\n",
    "import torch.optim as optim\n",
    "import numpy as np\n",
    "import matplotlib.pyplot as pyplot"
   ]
  },
  {
   "cell_type": "code",
   "execution_count": 2,
   "metadata": {},
   "outputs": [],
   "source": [
    "def plot_data(plot, x, y):\n",
    "    plot.plot(x[y==0, 0], x[y==0, 1], 'ob', alpha=0.5)\n",
    "    plot.plot(x[y==1, 0], x[y==1, 1], 'xr', alpha=0.5)\n",
    "    plot.legend(['Cluster 0', 'Cluster 1'])\n",
    "    return plot\n",
    "  \n",
    "X, y = make_circles(n_samples = 1000, factor = 0.6, noise = 0.1, random_state = 64)\n",
    "\n",
    "plot = plot_data(pyplot, X, y)\n",
    "display(plot.show())"
   ]
  },
  {
   "cell_type": "code",
   "execution_count": 3,
   "metadata": {},
   "outputs": [],
   "source": [
    "class NeuralNetwork(nn.Module):\n",
    "    def __init__(self):\n",
    "        super(NeuralNetwork, self).__init__()\n",
    "        self.layer1 = nn.Linear(2, 4)\n",
    "        self.layer2 = nn.Linear(4, 2)\n",
    "        self.layer3 = nn.Linear(2, 1)\n",
    "    \n",
    "    def forward(self, x):\n",
    "      x = self.layer1(x)\n",
    "      x = torch.relu(x)\n",
    "      x = self.layer2(x)\n",
    "      x = torch.relu(x)\n",
    "      x = self.layer3(x)\n",
    "      return torch.sigmoid(x)\n"
   ]
  },
  {
   "cell_type": "code",
   "execution_count": 4,
   "metadata": {},
   "outputs": [],
   "source": [
    "Net = NeuralNetwork()\n",
    "print(Net)"
   ]
  },
  {
   "cell_type": "code",
   "execution_count": 5,
   "metadata": {},
   "outputs": [],
   "source": [
    "criterion = nn.BCELoss()\n",
    "optimizer = optim.Adam(Net.parameters(), lr=0.1)\n",
    "X_train, X_test, y_train, y_test = train_test_split(X, y, test_size = 0.2, random_state = 64)"
   ]
  },
  {
   "cell_type": "code",
   "execution_count": 6,
   "metadata": {},
   "outputs": [],
   "source": [
    "for i in range(50):\n",
    "  input = Variable(torch.FloatTensor(X_train[i]))\n",
    "  ground_truth = Variable(torch.FloatTensor(y_train[i]))\n",
    "  if ground_truth is not None: \n",
    "    ground_truth = torch.zeros(1)\n",
    "    \n",
    "  optimizer.zero_grad()\n",
    "  pred = Net(input)\n",
    "  loss = criterion(pred, ground_truth)\n",
    "  loss.backward()\n",
    "  optimizer.step()\n",
    "  \n",
    "  print(\"For iteration %d we get a loss of: %f\" % (i, loss))"
   ]
  }
 ],
 "metadata": {
  "name": "pytorch-demo",
  "notebookId": 3.045399576567815E15
 },
 "nbformat": 4,
 "nbformat_minor": 0
}
